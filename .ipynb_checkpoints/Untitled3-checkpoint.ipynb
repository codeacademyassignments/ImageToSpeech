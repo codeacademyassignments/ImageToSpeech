{
 "cells": [
  {
   "cell_type": "code",
   "execution_count": 1,
   "metadata": {},
   "outputs": [
    {
     "name": "stderr",
     "output_type": "stream",
     "text": [
      "Using TensorFlow backend.\n"
     ]
    }
   ],
   "source": [
    "from keras.models import Sequential\n",
    "from keras.layers import Dense\n",
    "import pickle\n",
    "import matplotlib.pyplot as plt\n",
    "from sklearn.model_selection import train_test_split\n",
    "from sklearn.decomposition import PCA\n",
    "import pandas as pd\n",
    "from skimage.feature import hog\n",
    "\n",
    "model = Sequential()"
   ]
  },
  {
   "cell_type": "code",
   "execution_count": 2,
   "metadata": {},
   "outputs": [
    {
     "name": "stdout",
     "output_type": "stream",
     "text": [
      "WARNING:tensorflow:From /usr/local/lib/python3.7/site-packages/tensorflow/python/framework/op_def_library.py:263: colocate_with (from tensorflow.python.framework.ops) is deprecated and will be removed in a future version.\n",
      "Instructions for updating:\n",
      "Colocations handled automatically by placer.\n"
     ]
    }
   ],
   "source": [
    "model.add(Dense(units=256, activation='relu', input_dim=9600))\n",
    "model.add(Dense(units=128, activation='relu'))\n",
    "model.add(Dense(units=64, activation='relu'))\n",
    "model.add(Dense(units=10, activation='relu'))\n",
    "model.add(Dense(units=3, activation='softmax'))\n",
    "model.compile(loss='categorical_crossentropy',\n",
    "              optimizer='sgd',\n",
    "              metrics=['accuracy'])"
   ]
  },
  {
   "cell_type": "code",
   "execution_count": 3,
   "metadata": {},
   "outputs": [
    {
     "name": "stdout",
     "output_type": "stream",
     "text": [
      "/Users/Pulkit_Agarwal-BNG/Assignments/hack2019/Model/data/A\n"
     ]
    }
   ],
   "source": [
    "cd A"
   ]
  },
  {
   "cell_type": "code",
   "execution_count": null,
   "metadata": {},
   "outputs": [],
   "source": [
    "winSize = (64,64)\n",
    "blockSize = (16,16)\n",
    "blockStride = (8,8)\n",
    "cellSize = (8,8)\n",
    "nbins = 9\n",
    "derivAperture = 1\n",
    "winSigma = 4.\n",
    "histogramNormType = 0\n",
    "L2HysThreshold = 2.0000000000000001e-01\n",
    "gammaCorrection = 0\n",
    "nlevels = 64\n",
    "hog = cv2.HOGDescriptor(winSize,blockSize,blockStride,cellSize,nbins,derivAperture,winSigma,\n",
    "                        histogramNormType,L2HysThreshold,gammaCorrection,nlevels)\n",
    "winStride = (8,8)\n",
    "padding = (8,8)\n",
    "locations = ((10,20),)"
   ]
  },
  {
   "cell_type": "code",
   "execution_count": 28,
   "metadata": {},
   "outputs": [
    {
     "name": "stdout",
     "output_type": "stream",
     "text": [
      "/Users/Pulkit_Agarwal-BNG/Assignments/hack2019/Model/data/other\n"
     ]
    }
   ],
   "source": [
    "cd other"
   ]
  },
  {
   "cell_type": "code",
   "execution_count": 29,
   "metadata": {},
   "outputs": [
    {
     "data": {
      "text/plain": [
       "'/Users/Pulkit_Agarwal-BNG/Assignments/hack2019/Model/data/other/016.jpg'"
      ]
     },
     "execution_count": 29,
     "metadata": {},
     "output_type": "execute_result"
    }
   ],
   "source": [
    "import os\n",
    "files_path = [os.path.abspath(x) for x in os.listdir()]\n",
    "\n",
    "files_path[0]"
   ]
  },
  {
   "cell_type": "code",
   "execution_count": 27,
   "metadata": {},
   "outputs": [
    {
     "name": "stdout",
     "output_type": "stream",
     "text": [
      "/Users/Pulkit_Agarwal-BNG/Assignments/hack2019/Model/data\n"
     ]
    }
   ],
   "source": [
    "cd .."
   ]
  },
  {
   "cell_type": "code",
   "execution_count": 30,
   "metadata": {},
   "outputs": [
    {
     "name": "stdout",
     "output_type": "stream",
     "text": [
      "/Users/Pulkit_Agarwal-BNG/Assignments/hack2019/Model/data/other/016.jpg\n",
      "(468, 9600) (9600,)\n",
      "/Users/Pulkit_Agarwal-BNG/Assignments/hack2019/Model/data/other/002.jpg\n",
      "(469, 9600) (9600,)\n",
      "/Users/Pulkit_Agarwal-BNG/Assignments/hack2019/Model/data/other/003.jpg\n",
      "(470, 9600) (9600,)\n",
      "/Users/Pulkit_Agarwal-BNG/Assignments/hack2019/Model/data/other/017.jpg\n",
      "(471, 9600) (9600,)\n",
      "/Users/Pulkit_Agarwal-BNG/Assignments/hack2019/Model/data/other/029.jpg\n",
      "(472, 9600) (9600,)\n",
      "/Users/Pulkit_Agarwal-BNG/Assignments/hack2019/Model/data/other/001.jpg\n",
      "(473, 9600) (9600,)\n",
      "/Users/Pulkit_Agarwal-BNG/Assignments/hack2019/Model/data/other/015.jpg\n",
      "(474, 9600) (9600,)\n",
      "/Users/Pulkit_Agarwal-BNG/Assignments/hack2019/Model/data/other/014.jpg\n",
      "(475, 9600) (9600,)\n",
      "/Users/Pulkit_Agarwal-BNG/Assignments/hack2019/Model/data/other/028.jpg\n",
      "(476, 9600) (9600,)\n",
      "/Users/Pulkit_Agarwal-BNG/Assignments/hack2019/Model/data/other/004.jpg\n",
      "(477, 9600) (9600,)\n",
      "/Users/Pulkit_Agarwal-BNG/Assignments/hack2019/Model/data/other/010.jpg\n",
      "(478, 9600) (9600,)\n",
      "/Users/Pulkit_Agarwal-BNG/Assignments/hack2019/Model/data/other/005.jpg\n",
      "(479, 9600) (9600,)\n",
      "/Users/Pulkit_Agarwal-BNG/Assignments/hack2019/Model/data/other/013.jpg\n",
      "(480, 9600) (9600,)\n",
      "/Users/Pulkit_Agarwal-BNG/Assignments/hack2019/Model/data/other/007.jpg\n",
      "(481, 9600) (9600,)\n",
      "/Users/Pulkit_Agarwal-BNG/Assignments/hack2019/Model/data/other/006.jpg\n",
      "(482, 9600) (9600,)\n",
      "/Users/Pulkit_Agarwal-BNG/Assignments/hack2019/Model/data/other/012.jpg\n",
      "(483, 9600) (9600,)\n",
      "/Users/Pulkit_Agarwal-BNG/Assignments/hack2019/Model/data/other/049.jpg\n",
      "(484, 9600) (9600,)\n",
      "/Users/Pulkit_Agarwal-BNG/Assignments/hack2019/Model/data/other/061.jpg\n",
      "(485, 9600) (9600,)\n",
      "/Users/Pulkit_Agarwal-BNG/Assignments/hack2019/Model/data/other/048.jpg\n",
      "(486, 9600) (9600,)\n",
      "/Users/Pulkit_Agarwal-BNG/Assignments/hack2019/Model/data/other/018 2.jpg\n",
      "(487, 9600) (9600,)\n",
      "/Users/Pulkit_Agarwal-BNG/Assignments/hack2019/Model/data/other/062.jpg\n",
      "(488, 9600) (9600,)\n",
      "/Users/Pulkit_Agarwal-BNG/Assignments/hack2019/Model/data/other/063.jpg\n",
      "(489, 9600) (9600,)\n",
      "/Users/Pulkit_Agarwal-BNG/Assignments/hack2019/Model/data/other/259.jpg\n",
      "(490, 9600) (9600,)\n",
      "/Users/Pulkit_Agarwal-BNG/Assignments/hack2019/Model/data/other/067.jpg\n",
      "(491, 9600) (9600,)\n",
      "/Users/Pulkit_Agarwal-BNG/Assignments/hack2019/Model/data/other/066.jpg\n",
      "(492, 9600) (9600,)\n",
      "/Users/Pulkit_Agarwal-BNG/Assignments/hack2019/Model/data/other/258.jpg\n",
      "(493, 9600) (9600,)\n",
      "/Users/Pulkit_Agarwal-BNG/Assignments/hack2019/Model/data/other/070.jpg\n",
      "(494, 9600) (9600,)\n",
      "/Users/Pulkit_Agarwal-BNG/Assignments/hack2019/Model/data/other/064.jpg\n",
      "(495, 9600) (9600,)\n",
      "/Users/Pulkit_Agarwal-BNG/Assignments/hack2019/Model/data/other/065.jpg\n",
      "(496, 9600) (9600,)\n",
      "/Users/Pulkit_Agarwal-BNG/Assignments/hack2019/Model/data/other/007 2.jpg\n",
      "(497, 9600) (9600,)\n",
      "/Users/Pulkit_Agarwal-BNG/Assignments/hack2019/Model/data/other/068.jpg\n",
      "(498, 9600) (9600,)\n",
      "/Users/Pulkit_Agarwal-BNG/Assignments/hack2019/Model/data/other/040.jpg\n",
      "(499, 9600) (9600,)\n",
      "/Users/Pulkit_Agarwal-BNG/Assignments/hack2019/Model/data/other/041.jpg\n",
      "(500, 9600) (9600,)\n",
      "/Users/Pulkit_Agarwal-BNG/Assignments/hack2019/Model/data/other/069.jpg\n",
      "(501, 9600) (9600,)\n",
      "/Users/Pulkit_Agarwal-BNG/Assignments/hack2019/Model/data/other/257.jpg\n",
      "(502, 9600) (9600,)\n",
      "/Users/Pulkit_Agarwal-BNG/Assignments/hack2019/Model/data/other/043.jpg\n",
      "(503, 9600) (9600,)\n",
      "/Users/Pulkit_Agarwal-BNG/Assignments/hack2019/Model/data/other/042.jpg\n",
      "(504, 9600) (9600,)\n",
      "/Users/Pulkit_Agarwal-BNG/Assignments/hack2019/Model/data/other/009 2.jpg\n",
      "(505, 9600) (9600,)\n",
      "/Users/Pulkit_Agarwal-BNG/Assignments/hack2019/Model/data/other/046.jpg\n",
      "(506, 9600) (9600,)\n",
      "/Users/Pulkit_Agarwal-BNG/Assignments/hack2019/Model/data/other/052.jpg\n",
      "(507, 9600) (9600,)\n",
      "/Users/Pulkit_Agarwal-BNG/Assignments/hack2019/Model/data/other/047.jpg\n",
      "(508, 9600) (9600,)\n",
      "/Users/Pulkit_Agarwal-BNG/Assignments/hack2019/Model/data/other/016 2.jpg\n",
      "(509, 9600) (9600,)\n",
      "/Users/Pulkit_Agarwal-BNG/Assignments/hack2019/Model/data/other/051.jpg\n",
      "(510, 9600) (9600,)\n",
      "/Users/Pulkit_Agarwal-BNG/Assignments/hack2019/Model/data/other/045.jpg\n",
      "(511, 9600) (9600,)\n",
      "/Users/Pulkit_Agarwal-BNG/Assignments/hack2019/Model/data/other/044.jpg\n",
      "(512, 9600) (9600,)\n",
      "/Users/Pulkit_Agarwal-BNG/Assignments/hack2019/Model/data/other/050.jpg\n",
      "(513, 9600) (9600,)\n",
      "/Users/Pulkit_Agarwal-BNG/Assignments/hack2019/Model/data/other/023.jpg\n",
      "(514, 9600) (9600,)\n",
      "/Users/Pulkit_Agarwal-BNG/Assignments/hack2019/Model/data/other/022.jpg\n",
      "(515, 9600) (9600,)\n",
      "/Users/Pulkit_Agarwal-BNG/Assignments/hack2019/Model/data/other/008.jpg\n",
      "(516, 9600) (9600,)\n",
      "/Users/Pulkit_Agarwal-BNG/Assignments/hack2019/Model/data/other/020.jpg\n",
      "(517, 9600) (9600,)\n",
      "/Users/Pulkit_Agarwal-BNG/Assignments/hack2019/Model/data/other/021.jpg\n",
      "(518, 9600) (9600,)\n",
      "/Users/Pulkit_Agarwal-BNG/Assignments/hack2019/Model/data/other/009.jpg\n",
      "(519, 9600) (9600,)\n",
      "/Users/Pulkit_Agarwal-BNG/Assignments/hack2019/Model/data/other/025.jpg\n",
      "(520, 9600) (9600,)\n",
      "/Users/Pulkit_Agarwal-BNG/Assignments/hack2019/Model/data/other/031.jpg\n",
      "(521, 9600) (9600,)\n",
      "/Users/Pulkit_Agarwal-BNG/Assignments/hack2019/Model/data/other/019.jpg\n",
      "(522, 9600) (9600,)\n",
      "/Users/Pulkit_Agarwal-BNG/Assignments/hack2019/Model/data/other/018.jpg\n",
      "(523, 9600) (9600,)\n",
      "/Users/Pulkit_Agarwal-BNG/Assignments/hack2019/Model/data/other/030.jpg\n",
      "(524, 9600) (9600,)\n",
      "/Users/Pulkit_Agarwal-BNG/Assignments/hack2019/Model/data/other/024.jpg\n",
      "(525, 9600) (9600,)\n",
      "/Users/Pulkit_Agarwal-BNG/Assignments/hack2019/Model/data/other/026.jpg\n",
      "(526, 9600) (9600,)\n",
      "/Users/Pulkit_Agarwal-BNG/Assignments/hack2019/Model/data/other/027.jpg\n",
      "(527, 9600) (9600,)\n"
     ]
    }
   ],
   "source": [
    "# import numpy as np\n",
    "# import cv2\n",
    "# from skimage.feature import hog\n",
    "# result = np.empty((0,9600), int)\n",
    "# label = np.empty((0,1))\n",
    "for imagePath in files_path:\n",
    "    print(imagePath)\n",
    "    im = cv2.imread(imagePath)\n",
    "#     hist = hog.compute(im,winStride,padding,locations)\n",
    "    im = cv2.resize(im, (480,640), interpolation = cv2.INTER_AREA)\n",
    "    hist, hog_image = hog(im, orientations=8, pixels_per_cell=(16, 16),\n",
    "                    cells_per_block=(1, 1), visualise=True,multichannel=True)\n",
    "    print(result.shape,hist.shape)\n",
    "    \n",
    "    result = np.append(result,np.transpose(hist.reshape(9600,1)),axis=0)\n",
    "    label = np.append(label,'other')\n",
    "#     print(result)\n",
    "    "
   ]
  },
  {
   "cell_type": "code",
   "execution_count": 17,
   "metadata": {},
   "outputs": [
    {
     "data": {
      "text/plain": [
       "(477, 9600)"
      ]
     },
     "execution_count": 17,
     "metadata": {},
     "output_type": "execute_result"
    }
   ],
   "source": [
    "result.shape"
   ]
  },
  {
   "cell_type": "code",
   "execution_count": 33,
   "metadata": {},
   "outputs": [
    {
     "name": "stdout",
     "output_type": "stream",
     "text": [
      "/Users/Pulkit_Agarwal-BNG/Assignments/hack2019/Model/data/other\n"
     ]
    }
   ],
   "source": [
    "cd other"
   ]
  },
  {
   "cell_type": "code",
   "execution_count": 7,
   "metadata": {},
   "outputs": [
    {
     "name": "stderr",
     "output_type": "stream",
     "text": [
      "/usr/local/lib/python3.7/site-packages/skimage/feature/_hog.py:150: skimage_deprecation: Default value of `block_norm`==`L1` is deprecated and will be changed to `L2-Hys` in v0.15. To supress this message specify explicitly the normalization method.\n",
      "  skimage_deprecation)\n",
      "/usr/local/lib/python3.7/site-packages/skimage/feature/_hog.py:248: skimage_deprecation: Argument `visualise` is deprecated and will be changed to `visualize` in v0.16\n",
      "  'be changed to `visualize` in v0.16', skimage_deprecation)\n"
     ]
    }
   ],
   "source": [
    "im = cv2.imread('/Users/Pulkit_Agarwal-BNG/Assignments/hack2019/Model/data/other/001.jpg')\n",
    "hist, hog_image = hog(im, orientations=8, pixels_per_cell=(16, 16),\n",
    "                    cells_per_block=(1, 1), visualise=True,multichannel=True)"
   ]
  },
  {
   "cell_type": "code",
   "execution_count": 8,
   "metadata": {},
   "outputs": [
    {
     "data": {
      "text/plain": [
       "(480, 640, 3)"
      ]
     },
     "execution_count": 8,
     "metadata": {},
     "output_type": "execute_result"
    }
   ],
   "source": [
    "im.shape"
   ]
  },
  {
   "cell_type": "code",
   "execution_count": null,
   "metadata": {},
   "outputs": [
    {
     "name": "stdout",
     "output_type": "stream",
     "text": [
      "(640, 480, 3)\n"
     ]
    }
   ],
   "source": [
    "resized = cv2.resize(im, (480,640), interpolation = cv2.INTER_AREA)\n",
    "print(resized.shape)\n",
    "cv2.imshow('dsds',im)\n",
    "cv2.waitKey(0)"
   ]
  },
  {
   "cell_type": "code",
   "execution_count": 3,
   "metadata": {},
   "outputs": [],
   "source": [
    "import cv2\n"
   ]
  },
  {
   "cell_type": "code",
   "execution_count": 9,
   "metadata": {},
   "outputs": [
    {
     "name": "stdout",
     "output_type": "stream",
     "text": [
      "/Users/Pulkit_Agarwal-BNG/Assignments/hack2019/Model/data/F/189.jpg\n"
     ]
    }
   ],
   "source": [
    "files_path = [os.path.abspath(x) for x in os.listdir()]\n",
    "print(files_path[0])"
   ]
  },
  {
   "cell_type": "code",
   "execution_count": null,
   "metadata": {},
   "outputs": [],
   "source": [
    "files_path = [os.path.abspath(x) for x in os.listdir()]\n",
    "for imagePath in files_path:\n",
    "    im = cv2.imread(imagePath)\n",
    "    hist = hog.compute(im,winStride,padding,locations)\n",
    "    print(result.shape,hist.shape)\n",
    "    result = np.append(result,np.transpose(hist),axis=0)\n",
    "    label = np.append(label,'F')\n",
    "    print(result)"
   ]
  },
  {
   "cell_type": "code",
   "execution_count": null,
   "metadata": {},
   "outputs": [],
   "source": [
    "cd .."
   ]
  },
  {
   "cell_type": "code",
   "execution_count": null,
   "metadata": {},
   "outputs": [],
   "source": [
    "cd other/"
   ]
  },
  {
   "cell_type": "code",
   "execution_count": null,
   "metadata": {},
   "outputs": [],
   "source": [
    "for imagePath in files_path:\n",
    "    im = cv2.imread(imagePath)\n",
    "    hist = hog.compute(im,winStride,padding,locations)\n",
    "    print(result.shape,hist.shape)\n",
    "    result = np.append(result,np.transpose(hist),axis=0)\n",
    "    label = np.append(label,'other')\n",
    "    print(result)"
   ]
  },
  {
   "cell_type": "code",
   "execution_count": null,
   "metadata": {},
   "outputs": [],
   "source": [
    "y_test.size"
   ]
  },
  {
   "cell_type": "code",
   "execution_count": 31,
   "metadata": {},
   "outputs": [],
   "source": [
    "X_train, X_test, y_train, y_test = train_test_split( result, label, test_size=0.20, random_state=42)"
   ]
  },
  {
   "cell_type": "code",
   "execution_count": 32,
   "metadata": {},
   "outputs": [],
   "source": [
    "y_train_pca = pd.get_dummies(y_train)"
   ]
  },
  {
   "cell_type": "code",
   "execution_count": 39,
   "metadata": {},
   "outputs": [
    {
     "data": {
      "text/html": [
       "<div>\n",
       "<style scoped>\n",
       "    .dataframe tbody tr th:only-of-type {\n",
       "        vertical-align: middle;\n",
       "    }\n",
       "\n",
       "    .dataframe tbody tr th {\n",
       "        vertical-align: top;\n",
       "    }\n",
       "\n",
       "    .dataframe thead th {\n",
       "        text-align: right;\n",
       "    }\n",
       "</style>\n",
       "<table border=\"1\" class=\"dataframe\">\n",
       "  <thead>\n",
       "    <tr style=\"text-align: right;\">\n",
       "      <th></th>\n",
       "      <th>A</th>\n",
       "      <th>F</th>\n",
       "      <th>other</th>\n",
       "    </tr>\n",
       "  </thead>\n",
       "  <tbody>\n",
       "    <tr>\n",
       "      <th>0</th>\n",
       "      <td>0</td>\n",
       "      <td>0</td>\n",
       "      <td>1</td>\n",
       "    </tr>\n",
       "    <tr>\n",
       "      <th>1</th>\n",
       "      <td>1</td>\n",
       "      <td>0</td>\n",
       "      <td>0</td>\n",
       "    </tr>\n",
       "    <tr>\n",
       "      <th>2</th>\n",
       "      <td>0</td>\n",
       "      <td>1</td>\n",
       "      <td>0</td>\n",
       "    </tr>\n",
       "    <tr>\n",
       "      <th>3</th>\n",
       "      <td>1</td>\n",
       "      <td>0</td>\n",
       "      <td>0</td>\n",
       "    </tr>\n",
       "    <tr>\n",
       "      <th>4</th>\n",
       "      <td>0</td>\n",
       "      <td>1</td>\n",
       "      <td>0</td>\n",
       "    </tr>\n",
       "    <tr>\n",
       "      <th>5</th>\n",
       "      <td>0</td>\n",
       "      <td>1</td>\n",
       "      <td>0</td>\n",
       "    </tr>\n",
       "    <tr>\n",
       "      <th>6</th>\n",
       "      <td>1</td>\n",
       "      <td>0</td>\n",
       "      <td>0</td>\n",
       "    </tr>\n",
       "    <tr>\n",
       "      <th>7</th>\n",
       "      <td>0</td>\n",
       "      <td>1</td>\n",
       "      <td>0</td>\n",
       "    </tr>\n",
       "    <tr>\n",
       "      <th>8</th>\n",
       "      <td>0</td>\n",
       "      <td>1</td>\n",
       "      <td>0</td>\n",
       "    </tr>\n",
       "    <tr>\n",
       "      <th>9</th>\n",
       "      <td>0</td>\n",
       "      <td>1</td>\n",
       "      <td>0</td>\n",
       "    </tr>\n",
       "    <tr>\n",
       "      <th>10</th>\n",
       "      <td>1</td>\n",
       "      <td>0</td>\n",
       "      <td>0</td>\n",
       "    </tr>\n",
       "    <tr>\n",
       "      <th>11</th>\n",
       "      <td>0</td>\n",
       "      <td>1</td>\n",
       "      <td>0</td>\n",
       "    </tr>\n",
       "    <tr>\n",
       "      <th>12</th>\n",
       "      <td>0</td>\n",
       "      <td>1</td>\n",
       "      <td>0</td>\n",
       "    </tr>\n",
       "    <tr>\n",
       "      <th>13</th>\n",
       "      <td>1</td>\n",
       "      <td>0</td>\n",
       "      <td>0</td>\n",
       "    </tr>\n",
       "    <tr>\n",
       "      <th>14</th>\n",
       "      <td>0</td>\n",
       "      <td>1</td>\n",
       "      <td>0</td>\n",
       "    </tr>\n",
       "    <tr>\n",
       "      <th>15</th>\n",
       "      <td>0</td>\n",
       "      <td>0</td>\n",
       "      <td>1</td>\n",
       "    </tr>\n",
       "    <tr>\n",
       "      <th>16</th>\n",
       "      <td>1</td>\n",
       "      <td>0</td>\n",
       "      <td>0</td>\n",
       "    </tr>\n",
       "    <tr>\n",
       "      <th>17</th>\n",
       "      <td>0</td>\n",
       "      <td>1</td>\n",
       "      <td>0</td>\n",
       "    </tr>\n",
       "    <tr>\n",
       "      <th>18</th>\n",
       "      <td>1</td>\n",
       "      <td>0</td>\n",
       "      <td>0</td>\n",
       "    </tr>\n",
       "    <tr>\n",
       "      <th>19</th>\n",
       "      <td>1</td>\n",
       "      <td>0</td>\n",
       "      <td>0</td>\n",
       "    </tr>\n",
       "    <tr>\n",
       "      <th>20</th>\n",
       "      <td>0</td>\n",
       "      <td>1</td>\n",
       "      <td>0</td>\n",
       "    </tr>\n",
       "    <tr>\n",
       "      <th>21</th>\n",
       "      <td>0</td>\n",
       "      <td>1</td>\n",
       "      <td>0</td>\n",
       "    </tr>\n",
       "    <tr>\n",
       "      <th>22</th>\n",
       "      <td>0</td>\n",
       "      <td>1</td>\n",
       "      <td>0</td>\n",
       "    </tr>\n",
       "    <tr>\n",
       "      <th>23</th>\n",
       "      <td>0</td>\n",
       "      <td>1</td>\n",
       "      <td>0</td>\n",
       "    </tr>\n",
       "    <tr>\n",
       "      <th>24</th>\n",
       "      <td>0</td>\n",
       "      <td>1</td>\n",
       "      <td>0</td>\n",
       "    </tr>\n",
       "    <tr>\n",
       "      <th>25</th>\n",
       "      <td>0</td>\n",
       "      <td>1</td>\n",
       "      <td>0</td>\n",
       "    </tr>\n",
       "    <tr>\n",
       "      <th>26</th>\n",
       "      <td>1</td>\n",
       "      <td>0</td>\n",
       "      <td>0</td>\n",
       "    </tr>\n",
       "    <tr>\n",
       "      <th>27</th>\n",
       "      <td>0</td>\n",
       "      <td>1</td>\n",
       "      <td>0</td>\n",
       "    </tr>\n",
       "    <tr>\n",
       "      <th>28</th>\n",
       "      <td>1</td>\n",
       "      <td>0</td>\n",
       "      <td>0</td>\n",
       "    </tr>\n",
       "    <tr>\n",
       "      <th>29</th>\n",
       "      <td>1</td>\n",
       "      <td>0</td>\n",
       "      <td>0</td>\n",
       "    </tr>\n",
       "    <tr>\n",
       "      <th>...</th>\n",
       "      <td>...</td>\n",
       "      <td>...</td>\n",
       "      <td>...</td>\n",
       "    </tr>\n",
       "    <tr>\n",
       "      <th>392</th>\n",
       "      <td>0</td>\n",
       "      <td>1</td>\n",
       "      <td>0</td>\n",
       "    </tr>\n",
       "    <tr>\n",
       "      <th>393</th>\n",
       "      <td>1</td>\n",
       "      <td>0</td>\n",
       "      <td>0</td>\n",
       "    </tr>\n",
       "    <tr>\n",
       "      <th>394</th>\n",
       "      <td>0</td>\n",
       "      <td>1</td>\n",
       "      <td>0</td>\n",
       "    </tr>\n",
       "    <tr>\n",
       "      <th>395</th>\n",
       "      <td>0</td>\n",
       "      <td>1</td>\n",
       "      <td>0</td>\n",
       "    </tr>\n",
       "    <tr>\n",
       "      <th>396</th>\n",
       "      <td>1</td>\n",
       "      <td>0</td>\n",
       "      <td>0</td>\n",
       "    </tr>\n",
       "    <tr>\n",
       "      <th>397</th>\n",
       "      <td>0</td>\n",
       "      <td>1</td>\n",
       "      <td>0</td>\n",
       "    </tr>\n",
       "    <tr>\n",
       "      <th>398</th>\n",
       "      <td>0</td>\n",
       "      <td>1</td>\n",
       "      <td>0</td>\n",
       "    </tr>\n",
       "    <tr>\n",
       "      <th>399</th>\n",
       "      <td>1</td>\n",
       "      <td>0</td>\n",
       "      <td>0</td>\n",
       "    </tr>\n",
       "    <tr>\n",
       "      <th>400</th>\n",
       "      <td>0</td>\n",
       "      <td>1</td>\n",
       "      <td>0</td>\n",
       "    </tr>\n",
       "    <tr>\n",
       "      <th>401</th>\n",
       "      <td>0</td>\n",
       "      <td>1</td>\n",
       "      <td>0</td>\n",
       "    </tr>\n",
       "    <tr>\n",
       "      <th>402</th>\n",
       "      <td>0</td>\n",
       "      <td>1</td>\n",
       "      <td>0</td>\n",
       "    </tr>\n",
       "    <tr>\n",
       "      <th>403</th>\n",
       "      <td>0</td>\n",
       "      <td>0</td>\n",
       "      <td>1</td>\n",
       "    </tr>\n",
       "    <tr>\n",
       "      <th>404</th>\n",
       "      <td>0</td>\n",
       "      <td>1</td>\n",
       "      <td>0</td>\n",
       "    </tr>\n",
       "    <tr>\n",
       "      <th>405</th>\n",
       "      <td>0</td>\n",
       "      <td>1</td>\n",
       "      <td>0</td>\n",
       "    </tr>\n",
       "    <tr>\n",
       "      <th>406</th>\n",
       "      <td>0</td>\n",
       "      <td>1</td>\n",
       "      <td>0</td>\n",
       "    </tr>\n",
       "    <tr>\n",
       "      <th>407</th>\n",
       "      <td>1</td>\n",
       "      <td>0</td>\n",
       "      <td>0</td>\n",
       "    </tr>\n",
       "    <tr>\n",
       "      <th>408</th>\n",
       "      <td>1</td>\n",
       "      <td>0</td>\n",
       "      <td>0</td>\n",
       "    </tr>\n",
       "    <tr>\n",
       "      <th>409</th>\n",
       "      <td>0</td>\n",
       "      <td>1</td>\n",
       "      <td>0</td>\n",
       "    </tr>\n",
       "    <tr>\n",
       "      <th>410</th>\n",
       "      <td>1</td>\n",
       "      <td>0</td>\n",
       "      <td>0</td>\n",
       "    </tr>\n",
       "    <tr>\n",
       "      <th>411</th>\n",
       "      <td>0</td>\n",
       "      <td>1</td>\n",
       "      <td>0</td>\n",
       "    </tr>\n",
       "    <tr>\n",
       "      <th>412</th>\n",
       "      <td>0</td>\n",
       "      <td>1</td>\n",
       "      <td>0</td>\n",
       "    </tr>\n",
       "    <tr>\n",
       "      <th>413</th>\n",
       "      <td>1</td>\n",
       "      <td>0</td>\n",
       "      <td>0</td>\n",
       "    </tr>\n",
       "    <tr>\n",
       "      <th>414</th>\n",
       "      <td>0</td>\n",
       "      <td>1</td>\n",
       "      <td>0</td>\n",
       "    </tr>\n",
       "    <tr>\n",
       "      <th>415</th>\n",
       "      <td>1</td>\n",
       "      <td>0</td>\n",
       "      <td>0</td>\n",
       "    </tr>\n",
       "    <tr>\n",
       "      <th>416</th>\n",
       "      <td>1</td>\n",
       "      <td>0</td>\n",
       "      <td>0</td>\n",
       "    </tr>\n",
       "    <tr>\n",
       "      <th>417</th>\n",
       "      <td>1</td>\n",
       "      <td>0</td>\n",
       "      <td>0</td>\n",
       "    </tr>\n",
       "    <tr>\n",
       "      <th>418</th>\n",
       "      <td>1</td>\n",
       "      <td>0</td>\n",
       "      <td>0</td>\n",
       "    </tr>\n",
       "    <tr>\n",
       "      <th>419</th>\n",
       "      <td>0</td>\n",
       "      <td>1</td>\n",
       "      <td>0</td>\n",
       "    </tr>\n",
       "    <tr>\n",
       "      <th>420</th>\n",
       "      <td>0</td>\n",
       "      <td>1</td>\n",
       "      <td>0</td>\n",
       "    </tr>\n",
       "    <tr>\n",
       "      <th>421</th>\n",
       "      <td>1</td>\n",
       "      <td>0</td>\n",
       "      <td>0</td>\n",
       "    </tr>\n",
       "  </tbody>\n",
       "</table>\n",
       "<p>422 rows × 3 columns</p>\n",
       "</div>"
      ],
      "text/plain": [
       "     A  F  other\n",
       "0    0  0      1\n",
       "1    1  0      0\n",
       "2    0  1      0\n",
       "3    1  0      0\n",
       "4    0  1      0\n",
       "5    0  1      0\n",
       "6    1  0      0\n",
       "7    0  1      0\n",
       "8    0  1      0\n",
       "9    0  1      0\n",
       "10   1  0      0\n",
       "11   0  1      0\n",
       "12   0  1      0\n",
       "13   1  0      0\n",
       "14   0  1      0\n",
       "15   0  0      1\n",
       "16   1  0      0\n",
       "17   0  1      0\n",
       "18   1  0      0\n",
       "19   1  0      0\n",
       "20   0  1      0\n",
       "21   0  1      0\n",
       "22   0  1      0\n",
       "23   0  1      0\n",
       "24   0  1      0\n",
       "25   0  1      0\n",
       "26   1  0      0\n",
       "27   0  1      0\n",
       "28   1  0      0\n",
       "29   1  0      0\n",
       "..  .. ..    ...\n",
       "392  0  1      0\n",
       "393  1  0      0\n",
       "394  0  1      0\n",
       "395  0  1      0\n",
       "396  1  0      0\n",
       "397  0  1      0\n",
       "398  0  1      0\n",
       "399  1  0      0\n",
       "400  0  1      0\n",
       "401  0  1      0\n",
       "402  0  1      0\n",
       "403  0  0      1\n",
       "404  0  1      0\n",
       "405  0  1      0\n",
       "406  0  1      0\n",
       "407  1  0      0\n",
       "408  1  0      0\n",
       "409  0  1      0\n",
       "410  1  0      0\n",
       "411  0  1      0\n",
       "412  0  1      0\n",
       "413  1  0      0\n",
       "414  0  1      0\n",
       "415  1  0      0\n",
       "416  1  0      0\n",
       "417  1  0      0\n",
       "418  1  0      0\n",
       "419  0  1      0\n",
       "420  0  1      0\n",
       "421  1  0      0\n",
       "\n",
       "[422 rows x 3 columns]"
      ]
     },
     "execution_count": 39,
     "metadata": {},
     "output_type": "execute_result"
    }
   ],
   "source": [
    "y_train_pca"
   ]
  },
  {
   "cell_type": "code",
   "execution_count": 36,
   "metadata": {},
   "outputs": [
    {
     "name": "stdout",
     "output_type": "stream",
     "text": [
      "WARNING:tensorflow:From /usr/local/lib/python3.7/site-packages/tensorflow/python/ops/math_ops.py:3066: to_int32 (from tensorflow.python.ops.math_ops) is deprecated and will be removed in a future version.\n",
      "Instructions for updating:\n",
      "Use tf.cast instead.\n",
      "Epoch 1/5\n",
      "422/422 [==============================] - 0s 560us/step - loss: 1.0431 - acc: 0.4360\n",
      "Epoch 2/5\n",
      "422/422 [==============================] - 0s 208us/step - loss: 0.9066 - acc: 0.6493\n",
      "Epoch 3/5\n",
      "422/422 [==============================] - 0s 213us/step - loss: 0.8553 - acc: 0.6564\n",
      "Epoch 4/5\n",
      "422/422 [==============================] - 0s 200us/step - loss: 0.7461 - acc: 0.7038\n",
      "Epoch 5/5\n",
      "422/422 [==============================] - 0s 211us/step - loss: 0.6210 - acc: 0.7915\n"
     ]
    },
    {
     "data": {
      "text/plain": [
       "<keras.callbacks.History at 0x149663ef0>"
      ]
     },
     "execution_count": 36,
     "metadata": {},
     "output_type": "execute_result"
    }
   ],
   "source": [
    "model.fit(X_train, y_train_pca, epochs=5, batch_size=32)"
   ]
  },
  {
   "cell_type": "code",
   "execution_count": null,
   "metadata": {},
   "outputs": [],
   "source": [
    "test = pca.transform(result)"
   ]
  },
  {
   "cell_type": "code",
   "execution_count": null,
   "metadata": {},
   "outputs": [],
   "source": [
    "model  =  pickle.load(open('model', 'rb'))"
   ]
  },
  {
   "cell_type": "code",
   "execution_count": null,
   "metadata": {},
   "outputs": [],
   "source": [
    "pca = pickle.load(open('pca','rb'))"
   ]
  },
  {
   "cell_type": "code",
   "execution_count": null,
   "metadata": {},
   "outputs": [],
   "source": [
    "test = pca.transform(result[0].reshape(1,-1))"
   ]
  },
  {
   "cell_type": "code",
   "execution_count": 37,
   "metadata": {},
   "outputs": [],
   "source": [
    "res = model.predict(X_test)"
   ]
  },
  {
   "cell_type": "code",
   "execution_count": null,
   "metadata": {},
   "outputs": [],
   "source": [
    "np.argmax(res,axis=1)"
   ]
  },
  {
   "cell_type": "code",
   "execution_count": 45,
   "metadata": {},
   "outputs": [
    {
     "data": {
      "text/plain": [
       "array(['A', 'F', 'A', 'F', 'A', 'A', 'other', 'other', 'F', 'A', 'A', 'A',\n",
       "       'A', 'A', 'A', 'F', 'A', 'A', 'F', 'A', 'A', 'F', 'F', 'F', 'A',\n",
       "       'A', 'F', 'A', 'F', 'A', 'A', 'A', 'A', 'F', 'A', 'F', 'F', 'F',\n",
       "       'A', 'F', 'A', 'F', 'F', 'F', 'A', 'other', 'A', 'A', 'A', 'A',\n",
       "       'A', 'F', 'F', 'other', 'other', 'other', 'other', 'F', 'other',\n",
       "       'F', 'F', 'F', 'A', 'other', 'other', 'A', 'A', 'other', 'F', 'A',\n",
       "       'F', 'A', 'A', 'A', 'A', 'A', 'F', 'A', 'A', 'other', 'A', 'A',\n",
       "       'F', 'F', 'other', 'F', 'F', 'A', 'A', 'A', 'A', 'A', 'A', 'other',\n",
       "       'A', 'A', 'F', 'F', 'F', 'F', 'F', 'other', 'F', 'A', 'F', 'F'],\n",
       "      dtype='<U32')"
      ]
     },
     "execution_count": 45,
     "metadata": {},
     "output_type": "execute_result"
    }
   ],
   "source": [
    "\n",
    "y_test"
   ]
  },
  {
   "cell_type": "code",
   "execution_count": 46,
   "metadata": {},
   "outputs": [
    {
     "data": {
      "text/plain": [
       "array([0, 0, 0, 0, 0, 0, 0, 0, 0, 0, 0, 0, 0, 0, 0, 1, 0, 0, 1, 0, 0, 1,\n",
       "       1, 0, 0, 0, 0, 0, 1, 0, 0, 0, 0, 0, 0, 1, 0, 0, 0, 0, 0, 0, 1, 0,\n",
       "       0, 0, 0, 0, 0, 0, 0, 1, 1, 0, 0, 0, 0, 0, 0, 0, 0, 1, 0, 0, 0, 0,\n",
       "       0, 0, 1, 0, 0, 0, 0, 0, 0, 0, 1, 0, 0, 0, 0, 0, 0, 1, 0, 1, 1, 0,\n",
       "       0, 0, 0, 0, 0, 0, 0, 0, 0, 1, 1, 0, 1, 0, 1, 0, 1, 0])"
      ]
     },
     "execution_count": 46,
     "metadata": {},
     "output_type": "execute_result"
    }
   ],
   "source": [
    "np.argmax(res,axis=1)"
   ]
  },
  {
   "cell_type": "code",
   "execution_count": 40,
   "metadata": {},
   "outputs": [],
   "source": [
    "a = ['A','F','other']\n"
   ]
  },
  {
   "cell_type": "code",
   "execution_count": 48,
   "metadata": {},
   "outputs": [
    {
     "name": "stdout",
     "output_type": "stream",
     "text": [
      "\r",
      "106/106 [==============================] - 0s 295us/step\n"
     ]
    }
   ],
   "source": [
    "loss_and_metrics = model.evaluate(X_test,pd.get_dummies(y_test), batch_size=128)"
   ]
  },
  {
   "cell_type": "code",
   "execution_count": 49,
   "metadata": {},
   "outputs": [
    {
     "data": {
      "text/plain": [
       "[0.6924782991409302, 0.6792452931404114]"
      ]
     },
     "execution_count": 49,
     "metadata": {},
     "output_type": "execute_result"
    }
   ],
   "source": [
    "loss_and_metrics\n"
   ]
  },
  {
   "cell_type": "code",
   "execution_count": 1,
   "metadata": {},
   "outputs": [
    {
     "ename": "NameError",
     "evalue": "name 'hog' is not defined",
     "output_type": "error",
     "traceback": [
      "\u001b[0;31m---------------------------------------\u001b[0m",
      "\u001b[0;31mNameError\u001b[0mTraceback (most recent call last)",
      "\u001b[0;32m<ipython-input-1-9e45717afe0d>\u001b[0m in \u001b[0;36m<module>\u001b[0;34m\u001b[0m\n\u001b[1;32m     19\u001b[0m \u001b[0;31m#     hist = hog.compute(crop_img,winStride,padding,locations)\u001b[0m\u001b[0;34m\u001b[0m\u001b[0;34m\u001b[0m\u001b[0;34m\u001b[0m\u001b[0m\n\u001b[1;32m     20\u001b[0m     \u001b[0mim\u001b[0m \u001b[0;34m=\u001b[0m \u001b[0mcv2\u001b[0m\u001b[0;34m.\u001b[0m\u001b[0mresize\u001b[0m\u001b[0;34m(\u001b[0m\u001b[0mcrop_img\u001b[0m\u001b[0;34m,\u001b[0m \u001b[0;34m(\u001b[0m\u001b[0;36m480\u001b[0m\u001b[0;34m,\u001b[0m\u001b[0;36m640\u001b[0m\u001b[0;34m)\u001b[0m\u001b[0;34m,\u001b[0m \u001b[0minterpolation\u001b[0m \u001b[0;34m=\u001b[0m \u001b[0mcv2\u001b[0m\u001b[0;34m.\u001b[0m\u001b[0mINTER_AREA\u001b[0m\u001b[0;34m)\u001b[0m\u001b[0;34m\u001b[0m\u001b[0;34m\u001b[0m\u001b[0m\n\u001b[0;32m---> 21\u001b[0;31m     hist, hog_image = hog(im, orientations=8, pixels_per_cell=(16, 16),\n\u001b[0m\u001b[1;32m     22\u001b[0m                     cells_per_block=(1, 1), visualise=True,multichannel=True)\n\u001b[1;32m     23\u001b[0m \u001b[0;31m#     hist = np.transpose(hist)\u001b[0m\u001b[0;34m\u001b[0m\u001b[0;34m\u001b[0m\u001b[0;34m\u001b[0m\u001b[0m\n",
      "\u001b[0;31mNameError\u001b[0m: name 'hog' is not defined"
     ]
    }
   ],
   "source": [
    "# import numpy as np \n",
    "import cv2\n",
    "\n",
    "cap = cv2.VideoCapture(0)\n",
    "\n",
    "while(True):\n",
    "    # Capture frame-by-frame\n",
    "    ret, frame = cap.read()\n",
    "\n",
    "    # Our operations on the frame come here\n",
    "    # gray = cv2.cvtColor(frame, cv2.COLOR_BGR2HSV)\n",
    "#     crop = cv2.line(frame,(511,161),(911,161),(255,0,0),5)\n",
    "#     crop = cv2.line(crop,(511,161),(511,561),(255,0,0),5)\n",
    "#     crop = cv2.line(crop,(511,561),(911,561),(255,0,0),5)\n",
    "#     crop = cv2.line(crop,(911,161),(911,561),(255,0,0),5)\n",
    "    crop_img = frame[161:561, 511:911]\n",
    "    # Display the resulting frame\n",
    "    cv2.imshow('frame',crop_img)\n",
    "#     hist = hog.compute(crop_img,winStride,padding,locations)\n",
    "    im = cv2.resize(crop_img, (480,640), interpolation = cv2.INTER_AREA)\n",
    "    hist, hog_image = hog(im, orientations=8, pixels_per_cell=(16, 16),\n",
    "                    cells_per_block=(1, 1), visualise=True,multichannel=True)\n",
    "#     hist = np.transpose(hist)\n",
    "    hist = np.transpose(hist.reshape(9600,1))\n",
    "#     hist = pca.transform(hist)\n",
    "    print(model.predict(hist))\n",
    "    print('class',a[np.argmax(model.predict(hist),axis=1)[0]])\n",
    "    if cv2.waitKey(1) & 0xFF == ord('q'):\n",
    "        break\n",
    "\n",
    "# When everything done, release the capture\n",
    "cap.release()\n",
    "cv2.destroyAllWindows()"
   ]
  },
  {
   "cell_type": "code",
   "execution_count": 4,
   "metadata": {},
   "outputs": [
    {
     "ename": "NameError",
     "evalue": "name 'model' is not defined",
     "output_type": "error",
     "traceback": [
      "\u001b[0;31m---------------------------------------\u001b[0m",
      "\u001b[0;31mNameError\u001b[0mTraceback (most recent call last)",
      "\u001b[0;32m<ipython-input-4-fcafc3026383>\u001b[0m in \u001b[0;36m<module>\u001b[0;34m\u001b[0m\n\u001b[1;32m      1\u001b[0m \u001b[0;32mimport\u001b[0m \u001b[0mpickle\u001b[0m\u001b[0;34m\u001b[0m\u001b[0;34m\u001b[0m\u001b[0m\n\u001b[0;32m----> 2\u001b[0;31m \u001b[0mpickle\u001b[0m\u001b[0;34m.\u001b[0m\u001b[0mdump\u001b[0m\u001b[0;34m(\u001b[0m\u001b[0mmodel\u001b[0m\u001b[0;34m,\u001b[0m \u001b[0mopen\u001b[0m\u001b[0;34m(\u001b[0m\u001b[0;34m'model'\u001b[0m\u001b[0;34m,\u001b[0m \u001b[0;34m'wb'\u001b[0m\u001b[0;34m)\u001b[0m\u001b[0;34m)\u001b[0m\u001b[0;34m\u001b[0m\u001b[0;34m\u001b[0m\u001b[0m\n\u001b[0m",
      "\u001b[0;31mNameError\u001b[0m: name 'model' is not defined"
     ]
    }
   ],
   "source": [
    "import pickle\n",
    "pickle.dump(model, open('model', 'wb'))"
   ]
  },
  {
   "cell_type": "code",
   "execution_count": 5,
   "metadata": {},
   "outputs": [
    {
     "ename": "NameError",
     "evalue": "name 'model' is not defined",
     "output_type": "error",
     "traceback": [
      "\u001b[0;31m---------------------------------------\u001b[0m",
      "\u001b[0;31mNameError\u001b[0mTraceback (most recent call last)",
      "\u001b[0;32m<ipython-input-5-1f8a688cae5d>\u001b[0m in \u001b[0;36m<module>\u001b[0;34m\u001b[0m\n\u001b[0;32m----> 1\u001b[0;31m \u001b[0mmodel\u001b[0m\u001b[0;34m\u001b[0m\u001b[0;34m\u001b[0m\u001b[0m\n\u001b[0m",
      "\u001b[0;31mNameError\u001b[0m: name 'model' is not defined"
     ]
    }
   ],
   "source": [
    "model\n"
   ]
  },
  {
   "cell_type": "code",
   "execution_count": null,
   "metadata": {},
   "outputs": [],
   "source": [
    "model  =  pickle.load(open('model', 'rb'))"
   ]
  },
  {
   "cell_type": "code",
   "execution_count": null,
   "metadata": {},
   "outputs": [],
   "source": [
    "result[0]"
   ]
  },
  {
   "cell_type": "code",
   "execution_count": null,
   "metadata": {},
   "outputs": [],
   "source": [
    "from skimage.feature import hog"
   ]
  },
  {
   "cell_type": "code",
   "execution_count": null,
   "metadata": {},
   "outputs": [],
   "source": [
    "files_path[0]"
   ]
  },
  {
   "cell_type": "code",
   "execution_count": null,
   "metadata": {},
   "outputs": [],
   "source": []
  },
  {
   "cell_type": "code",
   "execution_count": null,
   "metadata": {},
   "outputs": [],
   "source": []
  },
  {
   "cell_type": "code",
   "execution_count": null,
   "metadata": {},
   "outputs": [],
   "source": [
    "\n",
    "im = cv2.imread('/Users/Pulkit_Agarwal-BNG/Assignments/hack2019/Model/data/F/189.jpg')\n",
    "gr = cv2.cvtColor(im, cv2.COLOR_BGR2GRAY) \n",
    "\n",
    "print(im.shape)\n",
    "image = gr\n",
    "\n",
    "fd, hog_image = hog(im, orientations=8, pixels_per_cell=(16, 16),\n",
    "                    cells_per_block=(1, 1), visualise=True)\n",
    "\n",
    "fig, (ax1, ax2) = plt.subplots(1, 2, figsize=(8, 4), sharex=True, sharey=True)\n",
    "\n",
    "# ax1.axis('off')\n",
    "ax1.imshow(im)\n",
    "ax1.set_title('Input image')\n",
    "ax1.set_adjustable('box-forced')\n",
    "\n",
    "# Rescale histogram for better display\n",
    "hog_image_rescaled = exposure.rescale_intensity(hog_image, in_range=(0, .5))\n",
    "\n",
    "ax2.axis('off')\n",
    "ax2.imshow(hog_image, cmap=plt.cm.gray)\n",
    "ax2.set_title('Histogram of Oriented Gradients')\n",
    "ax1.set_adjustable('box-forced')\n",
    "plt.show()"
   ]
  },
  {
   "cell_type": "code",
   "execution_count": null,
   "metadata": {},
   "outputs": [],
   "source": [
    "im = cv2.imread('/Users/Pulkit_Agarwal-BNG/Assignments/hack2019/Model/data/F/189.jpg')"
   ]
  },
  {
   "cell_type": "code",
   "execution_count": null,
   "metadata": {},
   "outputs": [],
   "source": [
    "\n",
    "import cv2"
   ]
  },
  {
   "cell_type": "code",
   "execution_count": null,
   "metadata": {},
   "outputs": [],
   "source": [
    "cv2.imshow('hdjsdhs',im)\n",
    "cv2.waitKey(0)"
   ]
  },
  {
   "cell_type": "code",
   "execution_count": null,
   "metadata": {},
   "outputs": [],
   "source": [
    "fd.shape"
   ]
  },
  {
   "cell_type": "code",
   "execution_count": null,
   "metadata": {},
   "outputs": [],
   "source": [
    "def hogFeature(imagePath):\n",
    "    fd, hog_image = hog(image, orientations=8, pixels_per_cell=(16, 16),\n",
    "                    cells_per_block=(1, 1), visualise=True)\n",
    "\n",
    "    fig, (ax1, ax2) = plt.subplots(1, 2, figsize=(8, 4), sharex=True, sharey=True)\n",
    "\n",
    "    ax1.axis('off')\n",
    "    ax1.imshow(image, cmap=plt.cm.gray)\n",
    "    ax1.set_title('Input image')\n",
    "    ax1.set_adjustable('box-forced')\n",
    "\n",
    "# Rescale histogram for better display\n",
    "    hog_image_rescaled = exposure.rescale_intensity(hog_image, in_range=(0, .5))\n",
    "\n",
    "    ax2.axis('off')\n",
    "    ax2.imshow(hog_image_rescaled, cmap=plt.cm.gray)\n",
    "    ax2.set_title('Histogram of Oriented Gradients')\n",
    "    ax1.set_adjustable('box-forced')\n",
    "    plt.show()\n",
    "    return fig"
   ]
  },
  {
   "cell_type": "code",
   "execution_count": null,
   "metadata": {},
   "outputs": [],
   "source": [
    "features, hog_image = hog(im, orientations=8, \n",
    "    pixels_per_cell=(16, 16),       \n",
    "    cells_per_block=(1,1), \n",
    "    visualise=True, multichannel=True)"
   ]
  },
  {
   "cell_type": "code",
   "execution_count": null,
   "metadata": {},
   "outputs": [],
   "source": [
    "cv2.imshow('asas',im)"
   ]
  },
  {
   "cell_type": "code",
   "execution_count": null,
   "metadata": {},
   "outputs": [],
   "source": [
    "fig, (ax1, ax2) = plt.subplots(1, 2, figsize=(8, 4), sharex=True, sharey=True)\n",
    "# ax1.axis('off')\n",
    "ax1.imshow(im)\n",
    "ax1.set_title('Input image')\n",
    "ax1.set_adjustable('box-forced')\n",
    "\n",
    "# Rescale histogram for better display\n",
    "hog_image_rescaled = exposure.rescale_intensity(hog_image, in_range=(0, .5))\n",
    "\n",
    "ax2.axis('off')\n",
    "ax2.imshow(hog_image_rescaled, cmap=plt.cm.gray)\n",
    "ax2.set_title('Histogram of Oriented Gradients')\n",
    "ax1.set_adjustable('box-forced')\n",
    "plt.show()"
   ]
  },
  {
   "cell_type": "code",
   "execution_count": null,
   "metadata": {},
   "outputs": [],
   "source": [
    "fd, hog_image = hog(im, orientations=8, pixels_per_cell=(16, 16),\n",
    "                    cells_per_block=(1, 1), visualise=True)"
   ]
  },
  {
   "cell_type": "code",
   "execution_count": null,
   "metadata": {},
   "outputs": [],
   "source": [
    "cv2.imshow('hog',hog_image)\n",
    "cv2.waitKey(0)"
   ]
  },
  {
   "cell_type": "code",
   "execution_count": null,
   "metadata": {},
   "outputs": [],
   "source": [
    "fd.shape"
   ]
  },
  {
   "cell_type": "code",
   "execution_count": null,
   "metadata": {},
   "outputs": [],
   "source": [
    "cv2.destroyAllWindows()"
   ]
  },
  {
   "cell_type": "code",
   "execution_count": null,
   "metadata": {},
   "outputs": [],
   "source": []
  }
 ],
 "metadata": {
  "kernelspec": {
   "display_name": "Python 3",
   "language": "python",
   "name": "python3"
  },
  "language_info": {
   "codemirror_mode": {
    "name": "ipython",
    "version": 3
   },
   "file_extension": ".py",
   "mimetype": "text/x-python",
   "name": "python",
   "nbconvert_exporter": "python",
   "pygments_lexer": "ipython3",
   "version": "3.7.2"
  }
 },
 "nbformat": 4,
 "nbformat_minor": 2
}
